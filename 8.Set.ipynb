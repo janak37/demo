{
 "cells": [
  {
   "cell_type": "markdown",
   "id": "8d853303",
   "metadata": {},
   "source": [
    "# Set\n",
    "- stores `unique values` only.\n",
    "- uses curly braces similar to dictionary but stores elements only not the key-values pairs\n",
    "- mathematical set operations can be performed.\n",
    "- `Indexing isnot possible` as elements are stored in out of order.\n",
    "- mutable"
   ]
  },
  {
   "cell_type": "code",
   "execution_count": 3,
   "id": "dde37ef1",
   "metadata": {},
   "outputs": [
    {
     "name": "stdout",
     "output_type": "stream",
     "text": [
      "set()\n",
      "<class 'set'>\n"
     ]
    }
   ],
   "source": [
    "s1 = set()\n",
    "print(s1)\n",
    "print(type(s1))"
   ]
  },
  {
   "cell_type": "code",
   "execution_count": 4,
   "id": "bc0b1693",
   "metadata": {},
   "outputs": [
    {
     "data": {
      "text/plain": [
       "{1}"
      ]
     },
     "execution_count": 4,
     "metadata": {},
     "output_type": "execute_result"
    }
   ],
   "source": [
    "s1.add(1)\n",
    "s1"
   ]
  },
  {
   "cell_type": "code",
   "execution_count": 5,
   "id": "d33f4c96",
   "metadata": {},
   "outputs": [
    {
     "data": {
      "text/plain": [
       "{1, 2, 21, 25, 32, 201, 221, 223}"
      ]
     },
     "execution_count": 5,
     "metadata": {},
     "output_type": "execute_result"
    }
   ],
   "source": [
    "s1.add(2)\n",
    "s1.add(21)\n",
    "s1.add(201)\n",
    "s1.add(221)\n",
    "s1.add(223)\n",
    "s1.add(25)\n",
    "s1.add(32)\n",
    "s1\n",
    "\n"
   ]
  },
  {
   "cell_type": "code",
   "execution_count": 8,
   "id": "96aa84b0",
   "metadata": {},
   "outputs": [
    {
     "data": {
      "text/plain": [
       "{1, 2, 21, 25, 32, 221, 223}"
      ]
     },
     "execution_count": 8,
     "metadata": {},
     "output_type": "execute_result"
    }
   ],
   "source": [
    "\n",
    "s1"
   ]
  },
  {
   "cell_type": "code",
   "execution_count": 9,
   "id": "cf943e54",
   "metadata": {},
   "outputs": [],
   "source": [
    "s1.discard(5000)"
   ]
  },
  {
   "cell_type": "code",
   "execution_count": 11,
   "id": "038148a9",
   "metadata": {},
   "outputs": [
    {
     "name": "stdout",
     "output_type": "stream",
     "text": [
      "return_value =1\n",
      "{2, 21, 25, 221, 223}\n"
     ]
    }
   ],
   "source": [
    "return_value = s1.pop()\n",
    "print(f\"{return_value =}\")\n",
    "print(f\"{s1}\")"
   ]
  },
  {
   "cell_type": "code",
   "execution_count": 12,
   "id": "9ad85f3a",
   "metadata": {},
   "outputs": [
    {
     "data": {
      "text/plain": [
       "{1, 2, 3, 4, 5, 6, 7}"
      ]
     },
     "execution_count": 12,
     "metadata": {},
     "output_type": "execute_result"
    }
   ],
   "source": [
    "s1 = {1,2,3,4,5,6}\n",
    "s2 = {2,4,7}\n",
    "s1.union(s2)  # s1 | s2"
   ]
  },
  {
   "cell_type": "code",
   "execution_count": 13,
   "id": "30edf16b",
   "metadata": {},
   "outputs": [
    {
     "data": {
      "text/plain": [
       "{2, 4}"
      ]
     },
     "execution_count": 13,
     "metadata": {},
     "output_type": "execute_result"
    }
   ],
   "source": [
    "s1.intersection(s2)  # s1 & s2"
   ]
  },
  {
   "cell_type": "code",
   "execution_count": 15,
   "id": "802828f5",
   "metadata": {},
   "outputs": [
    {
     "name": "stdout",
     "output_type": "stream",
     "text": [
      "s1 = {2, 4}\n",
      "s2 = {2, 4, 7}\n"
     ]
    }
   ],
   "source": [
    "s1 = {1,2,3,4,5,6}\n",
    "s2 = {2,4,7}\n",
    "s1.intersection_update(s2) \n",
    "print(f\"{s1 = }\")\n",
    "print(f\"{s2 = }\")"
   ]
  },
  {
   "cell_type": "code",
   "execution_count": 18,
   "id": "fb1fdd5c",
   "metadata": {},
   "outputs": [
    {
     "name": "stdout",
     "output_type": "stream",
     "text": [
      "s1 = {1, 2, 3, 4, 5, 6}\n",
      "s2 = {2, 4, 7}\n",
      "s1 - s2 = {1, 3, 5, 6}\n"
     ]
    }
   ],
   "source": [
    "s1 = {1,2,3,4,5,6}\n",
    "s2 = {2,4,7}\n",
    "s1.difference(s2)  # s1 - s2\n",
    "print(f\"{s1 = }\")\n",
    "print(f\"{s2 = }\")\n",
    "print(f\"{s1 - s2 = }\")"
   ]
  },
  {
   "cell_type": "code",
   "execution_count": 19,
   "id": "879886c8",
   "metadata": {},
   "outputs": [
    {
     "name": "stdout",
     "output_type": "stream",
     "text": [
      "s1 = {1, 3, 5, 6}\n",
      "s2 = {2, 4, 7}\n",
      "s1 - s2 = {1, 3, 5, 6}\n"
     ]
    }
   ],
   "source": [
    "s1 = {1,2,3,4,5,6}\n",
    "s2 = {2,4,7}\n",
    "s1.difference_update(s2)\n",
    "print(f\"{s1 = }\" )\n",
    "print(f\"{s2 = }\")\n",
    "print(f\"{s1 - s2 = }\")"
   ]
  },
  {
   "cell_type": "code",
   "execution_count": 20,
   "id": "f6a8876b",
   "metadata": {},
   "outputs": [
    {
     "name": "stdout",
     "output_type": "stream",
     "text": [
      "s1 = {1, 2, 3, 4, 5, 6}\n",
      "s2 = {2, 4, 7}\n",
      "diff = {1, 3, 5, 6, 7}\n"
     ]
    }
   ],
   "source": [
    "s1 = {1,2,3,4,5,6}\n",
    "s2 = {2,4,7}\n",
    "diff = s1.symmetric_difference(s2)\n",
    "print(f\"{s1 = }\")\n",
    "print(f\"{s2 = }\")\n",
    "print(f\"{diff = }\")\n"
   ]
  }
 ],
 "metadata": {
  "kernelspec": {
   "display_name": "csit82",
   "language": "python",
   "name": "python3"
  },
  "language_info": {
   "codemirror_mode": {
    "name": "ipython",
    "version": 3
   },
   "file_extension": ".py",
   "mimetype": "text/x-python",
   "name": "python",
   "nbconvert_exporter": "python",
   "pygments_lexer": "ipython3",
   "version": "3.12.11"
  }
 },
 "nbformat": 4,
 "nbformat_minor": 5
}

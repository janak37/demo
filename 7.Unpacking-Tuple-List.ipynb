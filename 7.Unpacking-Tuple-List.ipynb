{
 "cells": [
  {
   "cell_type": "code",
   "execution_count": 3,
   "id": "1bcabb83",
   "metadata": {},
   "outputs": [
    {
     "name": "stdout",
     "output_type": "stream",
     "text": [
      "a=1\n",
      "b=2\n"
     ]
    }
   ],
   "source": [
    "a,b =1,2\n",
    "print(f\"{a=}\")\n",
    "print(f\"{b=}\")"
   ]
  },
  {
   "cell_type": "code",
   "execution_count": null,
   "id": "6930f6f6",
   "metadata": {},
   "outputs": [
    {
     "ename": "ValueError",
     "evalue": "too many values to unpack (expected 2)",
     "output_type": "error",
     "traceback": [
      "\u001b[31m---------------------------------------------------------------------------\u001b[39m",
      "\u001b[31mValueError\u001b[39m                                Traceback (most recent call last)",
      "\u001b[36mCell\u001b[39m\u001b[36m \u001b[39m\u001b[32mIn[8]\u001b[39m\u001b[32m, line 1\u001b[39m\n\u001b[32m----> \u001b[39m\u001b[32m1\u001b[39m a,b =\u001b[32m1\u001b[39m,\u001b[32m2\u001b[39m,\u001b[32m3\u001b[39m\n\u001b[32m      2\u001b[39m \u001b[38;5;28mprint\u001b[39m(\u001b[33mf\u001b[39m\u001b[33m\"\u001b[39m\u001b[38;5;132;01m{\u001b[39;00ma\u001b[38;5;132;01m=}\u001b[39;00m\u001b[33m\"\u001b[39m)\n\u001b[32m      3\u001b[39m \u001b[38;5;28mprint\u001b[39m(\u001b[33mf\u001b[39m\u001b[33m\"\u001b[39m\u001b[38;5;132;01m{\u001b[39;00mb\u001b[38;5;132;01m=}\u001b[39;00m\u001b[33m\"\u001b[39m)\n",
      "\u001b[31mValueError\u001b[39m: too many values to unpack (expected 2)"
     ]
    }
   ],
   "source": [
    "# valueError is raised when number of variables does not match the number of values\n",
    "a,b =1,2,3\n",
    "print(f\"{a=}\")\n",
    "print(f\"{b=}\")\n"
   ]
  },
  {
   "cell_type": "code",
   "execution_count": 9,
   "id": "17a36ea7",
   "metadata": {},
   "outputs": [
    {
     "name": "stdout",
     "output_type": "stream",
     "text": [
      "a=1\n",
      "b=2\n",
      "c=3\n"
     ]
    }
   ],
   "source": [
    "a,b,c =1,2,3\n",
    "print(f\"{a=}\")\n",
    "print(f\"{b=}\")\n",
    "print(f\"{c=}\")"
   ]
  },
  {
   "cell_type": "code",
   "execution_count": 14,
   "id": "83b5fe4b",
   "metadata": {},
   "outputs": [
    {
     "name": "stdout",
     "output_type": "stream",
     "text": [
      "f=1\n",
      "remaining=[2, 3, 4, 5, 6]\n",
      "l=7\n"
     ]
    }
   ],
   "source": [
    "f, *remaining ,l=1,2,3,4,5,6,7\n",
    "print(f\"{f=}\")\n",
    "print(f\"{remaining=}\")\n",
    "print(f\"{l=}\")"
   ]
  },
  {
   "cell_type": "code",
   "execution_count": 15,
   "id": "3af3e704",
   "metadata": {},
   "outputs": [
    {
     "name": "stdout",
     "output_type": "stream",
     "text": [
      "f=1\n",
      "s=2\n",
      "remaining=[3, 4, 5, 6, 7]\n"
     ]
    }
   ],
   "source": [
    "f, s, *remaining =1,2,3,4,5,6,7\n",
    "print(f\"{f=}\")\n",
    "print(f\"{s=}\")\n",
    "print(f\"{remaining=}\")"
   ]
  },
  {
   "cell_type": "code",
   "execution_count": 16,
   "id": "cdbd961c",
   "metadata": {},
   "outputs": [
    {
     "name": "stdout",
     "output_type": "stream",
     "text": [
      "f=1\n",
      "s=2\n",
      "remaining=[3, 4, 5, 6, 7]\n"
     ]
    }
   ],
   "source": [
    "f, s, *remaining = [1,2,3,4,5,6,7]\n",
    "print(f\"{f=}\")\n",
    "print(f\"{s=}\")\n",
    "print(f\"{remaining=}\")"
   ]
  }
 ],
 "metadata": {
  "kernelspec": {
   "display_name": "csit82",
   "language": "python",
   "name": "python3"
  },
  "language_info": {
   "codemirror_mode": {
    "name": "ipython",
    "version": 3
   },
   "file_extension": ".py",
   "mimetype": "text/x-python",
   "name": "python",
   "nbconvert_exporter": "python",
   "pygments_lexer": "ipython3",
   "version": "3.12.11"
  }
 },
 "nbformat": 4,
 "nbformat_minor": 5
}

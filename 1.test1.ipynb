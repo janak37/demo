{
 "cells": [
  {
   "cell_type": "code",
   "execution_count": null,
   "id": "58cffd60",
   "metadata": {},
   "outputs": [],
   "source": []
  },
  {
   "cell_type": "markdown",
   "id": "0ddeb12d",
   "metadata": {},
   "source": [
    "# this is line one."
   ]
  },
  {
   "cell_type": "markdown",
   "id": "8ca9a683",
   "metadata": {},
   "source": [
    "### this is line two with three hash tags\n",
    "* this is point one\n",
    "   -  this is sub point one of point one"
   ]
  },
  {
   "cell_type": "code",
   "execution_count": 3,
   "id": "fe5710e5",
   "metadata": {},
   "outputs": [
    {
     "name": "stdout",
     "output_type": "stream",
     "text": [
      "hello world\n"
     ]
    }
   ],
   "source": [
    "print(\"hello world\")"
   ]
  },
  {
   "cell_type": "code",
   "execution_count": 6,
   "id": "76a39259",
   "metadata": {},
   "outputs": [
    {
     "name": "stdout",
     "output_type": "stream",
     "text": [
      "hello world\n"
     ]
    }
   ],
   "source": [
    "# this is comment\n",
    "print(\"hello world\")"
   ]
  },
  {
   "cell_type": "markdown",
   "id": "ad29a343",
   "metadata": {},
   "source": [
    "' single line string\n",
    "\" multi line string\n",
    "if   :\n",
    "naming convention \n",
    "-pascal case  PascalCase [classs name,enum]\n",
    "-camel case   camelCase\n",
    "-snake case   snake_case [variable]"
   ]
  }
 ],
 "metadata": {
  "kernelspec": {
   "display_name": "csit82",
   "language": "python",
   "name": "python3"
  },
  "language_info": {
   "codemirror_mode": {
    "name": "ipython",
    "version": 3
   },
   "file_extension": ".py",
   "mimetype": "text/x-python",
   "name": "python",
   "nbconvert_exporter": "python",
   "pygments_lexer": "ipython3",
   "version": "3.12.11"
  }
 },
 "nbformat": 4,
 "nbformat_minor": 5
}

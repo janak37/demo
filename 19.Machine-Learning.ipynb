{
 "cells": [
  {
   "cell_type": "code",
   "execution_count": 1,
   "id": "fa06c948",
   "metadata": {},
   "outputs": [
    {
     "name": "stdout",
     "output_type": "stream",
     "text": [
      "Requirement already satisfied: scikit-learn in c:\\users\\janak dangi\\miniconda3\\envs\\csit82\\lib\\site-packages (1.7.1)\n",
      "Requirement already satisfied: numpy>=1.22.0 in c:\\users\\janak dangi\\miniconda3\\envs\\csit82\\lib\\site-packages (from scikit-learn) (2.3.2)\n",
      "Requirement already satisfied: scipy>=1.8.0 in c:\\users\\janak dangi\\miniconda3\\envs\\csit82\\lib\\site-packages (from scikit-learn) (1.16.1)\n",
      "Requirement already satisfied: joblib>=1.2.0 in c:\\users\\janak dangi\\miniconda3\\envs\\csit82\\lib\\site-packages (from scikit-learn) (1.5.2)\n",
      "Requirement already satisfied: threadpoolctl>=3.1.0 in c:\\users\\janak dangi\\miniconda3\\envs\\csit82\\lib\\site-packages (from scikit-learn) (3.6.0)\n"
     ]
    }
   ],
   "source": [
    "! pip install scikit-learn"
   ]
  },
  {
   "cell_type": "markdown",
   "id": "83fbc308",
   "metadata": {},
   "source": [
    "# ML\n",
    "- input and output generate rules/relations\n",
    "- new input->new gen ML-> predictions\n",
    "- cont. and discont. \n",
    "\n",
    "### ML algorithm\n",
    "- regression task-> to predict continuous value e.g.price of product\n",
    "- classification task-> to predict discrete value  e.g. condition to check spam or ham mail"
   ]
  },
  {
   "cell_type": "markdown",
   "id": "2883c4a7",
   "metadata": {},
   "source": [
    "### linear regression\n",
    "- y=mx+c\n",
    "- m-> weight=w, c-> bias=b , y=wx+b, y=ground truth, y^= prediction\n",
    "#### weight\n",
    "- finding the weight and bias \n",
    "- starting rule or reln is random initialization\n",
    "- from start to final approximate rule is called training ML algorithm\n",
    "\n",
    "#### training\n",
    "Steps \n",
    "- prediction\n",
    "- loss or diff\n",
    "- gradient calculation-> gradient means slight change in variable\n",
    "- update x[w,b]\n",
    "- one cycle of all these 4 steps is called 1 epoch\n",
    "\n",
    "- w = w+-del w, b=b+- del b, diff=y-y^ for(y^i-yi,w = w-del w, b=b-del b)\n",
    "\n",
    "\n",
    "#### loss\n",
    "- is a function\n",
    "- `mean sq error`: sumi=1,n((yi-y^i)**2)/n\n",
    "- `root mean sq error`: root(sumi=1,n((yi-y^i)**2)/n)\n",
    "- `mean absolute error`: sumi-1,n(|(yi-y^i)|)/n"
   ]
  },
  {
   "cell_type": "markdown",
   "id": "fdbd7e7d",
   "metadata": {},
   "source": [
    "### MEAN SQ ERROR\n",
    "- sum i=1,n((yi-wx-b)**2/n)\n",
    "- P.D w.r.t w(dw)-> (dMSE/dw)\n",
    "- P.D w.r.t b(db)->(dMSE/db)\n",
    "### w.r.t w\n",
    "- 2(yi-wxi-b)**(2-1).(d/dw)(yi-wxi-b), y"
   ]
  },
  {
   "cell_type": "markdown",
   "id": "5fa88837",
   "metadata": {},
   "source": [
    "### learning rate\n",
    "- 10**-2 or 10**-5\n",
    "### over fitting or under fitting\n",
    "### gradient descend : optimization algo"
   ]
  }
 ],
 "metadata": {
  "kernelspec": {
   "display_name": "csit82",
   "language": "python",
   "name": "python3"
  },
  "language_info": {
   "codemirror_mode": {
    "name": "ipython",
    "version": 3
   },
   "file_extension": ".py",
   "mimetype": "text/x-python",
   "name": "python",
   "nbconvert_exporter": "python",
   "pygments_lexer": "ipython3",
   "version": "3.12.11"
  }
 },
 "nbformat": 4,
 "nbformat_minor": 5
}

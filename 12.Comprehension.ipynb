{
 "cells": [
  {
   "cell_type": "code",
   "execution_count": 17,
   "id": "5b338467",
   "metadata": {},
   "outputs": [
    {
     "name": "stdout",
     "output_type": "stream",
     "text": [
      "[4, 8]\n"
     ]
    }
   ],
   "source": [
    "# Wap to transform the elements in the list using following condition.\n",
    "# Multiply by 2 if its even\n",
    "# Ignore otherwise.\n",
    "l = [1,2,3,4,5]\n",
    "\n",
    "\n",
    "\n",
    "result = []\n",
    "\n",
    "for ele in l:\n",
    "    if ele % 2 == 0:   \n",
    "        result.append(ele * 2)  \n",
    "    \n",
    "\n",
    "print(result)\n"
   ]
  },
  {
   "cell_type": "code",
   "execution_count": 18,
   "id": "cba47da4",
   "metadata": {},
   "outputs": [
    {
     "data": {
      "text/plain": [
       "[4, 8]"
      ]
     },
     "execution_count": 18,
     "metadata": {},
     "output_type": "execute_result"
    }
   ],
   "source": [
    "# list comprehension \n",
    "l = [1, 2, 3, 4, 5]\n",
    "[ele * 2 for ele in l if ele % 2 == 0]"
   ]
  },
  {
   "cell_type": "code",
   "execution_count": 19,
   "id": "8697e328",
   "metadata": {},
   "outputs": [
    {
     "name": "stdout",
     "output_type": "stream",
     "text": [
      "[100, 4, 300, 8, 500]\n"
     ]
    }
   ],
   "source": [
    "# Wap to transform the elements in the list using following condition.\n",
    "# Multiply by 2 if its even\n",
    "# Multiply by 100 if its odd\n",
    "l = [1,2,3,4,5]\n",
    "\n",
    "\n",
    "\n",
    "result = []\n",
    "\n",
    "for ele in l:\n",
    "    if ele % 2 == 0:   \n",
    "        result.append(ele * 2)  \n",
    "    else:\n",
    "        result.append(ele * 100)\n",
    "    \n",
    "\n",
    "print(result)\n"
   ]
  },
  {
   "cell_type": "code",
   "execution_count": 20,
   "id": "4b3f58d5",
   "metadata": {},
   "outputs": [
    {
     "data": {
      "text/plain": [
       "[100, 4, 300, 8, 500]"
      ]
     },
     "execution_count": 20,
     "metadata": {},
     "output_type": "execute_result"
    }
   ],
   "source": [
    "# list comprehension \n",
    "l = [1, 2, 3, 4, 5]\n",
    "[(ele * 2 if ele % 2 == 0 else ele * 100) for ele in l ]"
   ]
  },
  {
   "cell_type": "code",
   "execution_count": 31,
   "id": "9bbae061",
   "metadata": {},
   "outputs": [
    {
     "name": "stdout",
     "output_type": "stream",
     "text": [
      "[100, 200, 8]\n"
     ]
    }
   ],
   "source": [
    "l = [1,2,3,4,5]\n",
    "\n",
    "result = []\n",
    "for ele in l:\n",
    "    if ele > 2:\n",
    "       if ele % 2 == 0:   \n",
    "        result.append(ele * 2)  \n",
    "    else:\n",
    "        result.append(ele * 100)\n",
    "    \n",
    "\n",
    "print(result)\n"
   ]
  },
  {
   "cell_type": "code",
   "execution_count": 30,
   "id": "17f0a4d2",
   "metadata": {},
   "outputs": [
    {
     "data": {
      "text/plain": [
       "[300, 8, 500]"
      ]
     },
     "execution_count": 30,
     "metadata": {},
     "output_type": "execute_result"
    }
   ],
   "source": [
    "[\n",
    "     ele * 2 if ele % 2 == 0 else ele * 100\n",
    "    for ele in l\n",
    "     if ele > 2\n",
    "]"
   ]
  },
  {
   "cell_type": "code",
   "execution_count": 32,
   "id": "184b7581",
   "metadata": {},
   "outputs": [
    {
     "data": {
      "text/plain": [
       "{'a': 1, 'b': 2, 'c': 3, 'd': 4, 'e': 5}"
      ]
     },
     "execution_count": 32,
     "metadata": {},
     "output_type": "execute_result"
    }
   ],
   "source": [
    "d = {'a': 1, 'b': 2, 'c': 3, 'd': 4, 'e': 5}\n",
    "d"
   ]
  },
  {
   "cell_type": "code",
   "execution_count": 38,
   "id": "64bc8944",
   "metadata": {},
   "outputs": [
    {
     "data": {
      "text/plain": [
       "{'a': 100, 'b': 200, 'c': 300, 'd': 400, 'e': 500}"
      ]
     },
     "execution_count": 38,
     "metadata": {},
     "output_type": "execute_result"
    }
   ],
   "source": [
    "d = {'a': 1, 'b': 2, 'c': 3, 'd': 4, 'e': 5}\n",
    "result = {}\n",
    "for k, v in d.items():\n",
    "    result[k]= v * 100\n",
    "    \n",
    "result    \n",
    "    \n",
    "    \n"
   ]
  },
  {
   "cell_type": "code",
   "execution_count": 40,
   "id": "52025725",
   "metadata": {},
   "outputs": [
    {
     "data": {
      "text/plain": [
       "{'a': 100, 'b': 200, 'c': 300, 'd': 400, 'e': 500}"
      ]
     },
     "execution_count": 40,
     "metadata": {},
     "output_type": "execute_result"
    }
   ],
   "source": [
    "{ k:v*100 for k, v in d.items()}"
   ]
  },
  {
   "cell_type": "code",
   "execution_count": 42,
   "id": "5b029468",
   "metadata": {},
   "outputs": [
    {
     "data": {
      "text/plain": [
       "'qq'"
      ]
     },
     "execution_count": 42,
     "metadata": {},
     "output_type": "execute_result"
    }
   ],
   "source": [
    "'q' * 2"
   ]
  },
  {
   "cell_type": "code",
   "execution_count": 41,
   "id": "5ed83adf",
   "metadata": {},
   "outputs": [
    {
     "data": {
      "text/plain": [
       "{'aa': 100, 'bb': 200, 'cc': 300, 'dd': 400, 'ee': 500}"
      ]
     },
     "execution_count": 41,
     "metadata": {},
     "output_type": "execute_result"
    }
   ],
   "source": [
    "{ k*2:v*100 for k, v in d.items()}"
   ]
  },
  {
   "cell_type": "code",
   "execution_count": 43,
   "id": "23a5efe7",
   "metadata": {},
   "outputs": [
    {
     "data": {
      "text/plain": [
       "{'b': 200, 'd': 400}"
      ]
     },
     "execution_count": 43,
     "metadata": {},
     "output_type": "execute_result"
    }
   ],
   "source": [
    "d = {'a': 1, 'b': 2, 'c': 3, 'd': 4, 'e': 5}\n",
    "result = {}\n",
    "for k, v in d.items():\n",
    "    if v%2 == 0:\n",
    "        result[k]= v * 100\n",
    "    \n",
    "result    \n",
    "    "
   ]
  },
  {
   "cell_type": "code",
   "execution_count": 44,
   "id": "31dbe4c4",
   "metadata": {},
   "outputs": [
    {
     "data": {
      "text/plain": [
       "{'b': 200, 'd': 400}"
      ]
     },
     "execution_count": 44,
     "metadata": {},
     "output_type": "execute_result"
    }
   ],
   "source": [
    "{ k:v*100 for k, v in d.items() if v%2 == 0}"
   ]
  },
  {
   "cell_type": "code",
   "execution_count": 45,
   "id": "5f790396",
   "metadata": {},
   "outputs": [
    {
     "data": {
      "text/plain": [
       "{'a': 101, 'b': 200, 'c': 103, 'd': 400, 'e': 105}"
      ]
     },
     "execution_count": 45,
     "metadata": {},
     "output_type": "execute_result"
    }
   ],
   "source": [
    "d = {'a': 1, 'b': 2, 'c': 3, 'd': 4, 'e': 5}\n",
    "result = {}\n",
    "for k, v in d.items():\n",
    "    if v%2 == 0:\n",
    "        result[k]= v * 100\n",
    "    else:\n",
    "        result[k] = v + 100\n",
    "    \n",
    "result  "
   ]
  },
  {
   "cell_type": "code",
   "execution_count": 46,
   "id": "169d6155",
   "metadata": {},
   "outputs": [
    {
     "data": {
      "text/plain": [
       "{'a': 101, 'b': 200, 'c': 103, 'd': 400, 'e': 105}"
      ]
     },
     "execution_count": 46,
     "metadata": {},
     "output_type": "execute_result"
    }
   ],
   "source": [
    "{k : v *100 if v%2 == 0 else v + 100 for k, v in d.items() }"
   ]
  }
 ],
 "metadata": {
  "kernelspec": {
   "display_name": "csit82",
   "language": "python",
   "name": "python3"
  },
  "language_info": {
   "codemirror_mode": {
    "name": "ipython",
    "version": 3
   },
   "file_extension": ".py",
   "mimetype": "text/x-python",
   "name": "python",
   "nbconvert_exporter": "python",
   "pygments_lexer": "ipython3",
   "version": "3.12.11"
  }
 },
 "nbformat": 4,
 "nbformat_minor": 5
}

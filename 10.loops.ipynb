{
 "cells": [
  {
   "cell_type": "markdown",
   "id": "b99e5ef0",
   "metadata": {},
   "source": [
    "# For Loop"
   ]
  },
  {
   "cell_type": "code",
   "execution_count": 1,
   "id": "dd143000",
   "metadata": {},
   "outputs": [
    {
     "data": {
      "text/plain": [
       "range(0, 5)"
      ]
     },
     "execution_count": 1,
     "metadata": {},
     "output_type": "execute_result"
    }
   ],
   "source": [
    "range(0,5,1)"
   ]
  },
  {
   "cell_type": "code",
   "execution_count": 3,
   "id": "0abb3f1f",
   "metadata": {},
   "outputs": [
    {
     "data": {
      "text/plain": [
       "[1, 2, 3, 4]"
      ]
     },
     "execution_count": 3,
     "metadata": {},
     "output_type": "execute_result"
    }
   ],
   "source": [
    "list(range(1,5,1))"
   ]
  },
  {
   "cell_type": "code",
   "execution_count": 4,
   "id": "aad8c175",
   "metadata": {},
   "outputs": [
    {
     "data": {
      "text/plain": [
       "[0, 1, 2, 3, 4]"
      ]
     },
     "execution_count": 4,
     "metadata": {},
     "output_type": "execute_result"
    }
   ],
   "source": [
    "list(range(5))"
   ]
  },
  {
   "cell_type": "code",
   "execution_count": 9,
   "id": "3ab9a4bc",
   "metadata": {},
   "outputs": [
    {
     "name": "stdout",
     "output_type": "stream",
     "text": [
      "i = 0 \n",
      "i = 1 \n",
      "i = 2 \n",
      "i = 3 \n",
      "i = 4 \n"
     ]
    }
   ],
   "source": [
    "for i in range(5):\n",
    "    print(f\"{i = } \")"
   ]
  },
  {
   "cell_type": "code",
   "execution_count": 10,
   "id": "7b2e04ca",
   "metadata": {},
   "outputs": [
    {
     "name": "stdout",
     "output_type": "stream",
     "text": [
      "iteration completed\n",
      "iteration completed\n",
      "iteration completed\n",
      "iteration completed\n",
      "iteration completed\n"
     ]
    }
   ],
   "source": [
    "for i in range(5):\n",
    "    print(f\"iteration completed\")"
   ]
  },
  {
   "cell_type": "code",
   "execution_count": 12,
   "id": "ac0e632a",
   "metadata": {},
   "outputs": [
    {
     "data": {
      "text/plain": [
       "['t', 'h', 'i', 's']"
      ]
     },
     "execution_count": 12,
     "metadata": {},
     "output_type": "execute_result"
    }
   ],
   "source": [
    "list('this')"
   ]
  },
  {
   "cell_type": "code",
   "execution_count": 13,
   "id": "7097d95f",
   "metadata": {},
   "outputs": [
    {
     "data": {
      "text/plain": [
       "['this', False, 56.55, ['t', 'h', 'i', 's']]"
      ]
     },
     "execution_count": 13,
     "metadata": {},
     "output_type": "execute_result"
    }
   ],
   "source": [
    "l = ['this', False, 56.55, list('this')]\n",
    "l"
   ]
  },
  {
   "cell_type": "code",
   "execution_count": 15,
   "id": "ef274817",
   "metadata": {},
   "outputs": [
    {
     "data": {
      "text/plain": [
       "[10, 9, 8, 7, 6, 5, 4, 3, 2, 1]"
      ]
     },
     "execution_count": 15,
     "metadata": {},
     "output_type": "execute_result"
    }
   ],
   "source": [
    "list(\n",
    "    range(10,0,-1)\n",
    ")"
   ]
  },
  {
   "cell_type": "code",
   "execution_count": 14,
   "id": "2300cd54",
   "metadata": {},
   "outputs": [
    {
     "name": "stdout",
     "output_type": "stream",
     "text": [
      "ele = 'this'\n",
      "ele = False\n",
      "ele = 56.55\n",
      "ele = ['t', 'h', 'i', 's']\n"
     ]
    }
   ],
   "source": [
    "for ele in l:\n",
    "    print(f\"{ele = }\")"
   ]
  },
  {
   "cell_type": "code",
   "execution_count": 16,
   "id": "880d574e",
   "metadata": {},
   "outputs": [
    {
     "name": "stdout",
     "output_type": "stream",
     "text": [
      "ele = ['t', 'h', 'i', 's']\n",
      "ele = 56.55\n",
      "ele = False\n",
      "ele = 'this'\n"
     ]
    }
   ],
   "source": [
    "for ele in l[::-1]:\n",
    "    print(f\"{ele = }\")"
   ]
  },
  {
   "cell_type": "code",
   "execution_count": 18,
   "id": "88646089",
   "metadata": {},
   "outputs": [
    {
     "data": {
      "text/plain": [
       "[['t', 'h', 'i', 's'], 56.55, False, 'this']"
      ]
     },
     "execution_count": 18,
     "metadata": {},
     "output_type": "execute_result"
    }
   ],
   "source": [
    "l"
   ]
  },
  {
   "cell_type": "code",
   "execution_count": 17,
   "id": "35614fc6",
   "metadata": {},
   "outputs": [
    {
     "name": "stdout",
     "output_type": "stream",
     "text": [
      "ele = ['t', 'h', 'i', 's']\n",
      "ele = 56.55\n",
      "ele = False\n",
      "ele = 'this'\n"
     ]
    }
   ],
   "source": [
    "l.reverse()\n",
    "for ele in l:\n",
    "    print(f\"{ele = }\")"
   ]
  },
  {
   "cell_type": "code",
   "execution_count": 19,
   "id": "ce046367",
   "metadata": {},
   "outputs": [
    {
     "data": {
      "text/plain": [
       "[1, 2, 100, 200]"
      ]
     },
     "execution_count": 19,
     "metadata": {},
     "output_type": "execute_result"
    }
   ],
   "source": [
    "l1 = [1,2]\n",
    "l2 = [100,200]\n",
    "l1+l2"
   ]
  },
  {
   "cell_type": "code",
   "execution_count": 20,
   "id": "194b5a7d",
   "metadata": {},
   "outputs": [
    {
     "name": "stdout",
     "output_type": "stream",
     "text": [
      "ele = 1\n",
      "ele = 2\n",
      "ele = 100\n",
      "ele = 200\n"
     ]
    }
   ],
   "source": [
    "for ele in l1+l2:\n",
    "    print(f\"{ele = }\")"
   ]
  },
  {
   "cell_type": "code",
   "execution_count": 22,
   "id": "079acdb2",
   "metadata": {},
   "outputs": [
    {
     "name": "stdout",
     "output_type": "stream",
     "text": [
      "ele = (0, ['t', 'h', 'i', 's'])\n",
      "ele = (1, 56.55)\n",
      "ele = (2, False)\n",
      "ele = (3, 'this')\n"
     ]
    }
   ],
   "source": [
    "l = [['t', 'h', 'i', 's'], 56.55, False, 'this']\n",
    "for ele in enumerate(l):\n",
    "    print(f\"{ele = }\")"
   ]
  },
  {
   "cell_type": "markdown",
   "id": "b9c96e8e",
   "metadata": {},
   "source": [
    "## For loop\n",
    "```python\n",
    "for variable in iterable:\n",
    "    # statements\n",
    "```"
   ]
  },
  {
   "cell_type": "markdown",
   "id": "883bf641",
   "metadata": {},
   "source": [
    "## while loop\n",
    "```python\n",
    "# syntax\n",
    "while condition:\n",
    "    # statements"
   ]
  },
  {
   "cell_type": "code",
   "execution_count": 4,
   "id": "85a68484",
   "metadata": {},
   "outputs": [
    {
     "data": {
      "text/plain": [
       "'12'"
      ]
     },
     "execution_count": 4,
     "metadata": {},
     "output_type": "execute_result"
    }
   ],
   "source": [
    "# wap to take input from the user and print it until user inputs zero(0)\n",
    "user_input = input(\"Enter the value: \")\n",
    "user_input"
   ]
  },
  {
   "cell_type": "code",
   "execution_count": 16,
   "id": "4217a663",
   "metadata": {},
   "outputs": [
    {
     "data": {
      "text/plain": [
       "True"
      ]
     },
     "execution_count": 16,
     "metadata": {},
     "output_type": "execute_result"
    }
   ],
   "source": [
    "isinstance(4, int)"
   ]
  },
  {
   "cell_type": "code",
   "execution_count": 22,
   "id": "2f06f252",
   "metadata": {},
   "outputs": [
    {
     "name": "stdout",
     "output_type": "stream",
     "text": [
      "user_input = 4\n",
      "Retrying...\n",
      "Retrying...\n"
     ]
    }
   ],
   "source": [
    "user_input = input(\"Enter the value: \")\n",
    "if user_input.isnumeric():\n",
    "   user_input = int(user_input)\n",
    "\n",
    "while user_input != 0:\n",
    "    print(f\"{user_input = }\")\n",
    "\n",
    "    for i in range(3):\n",
    "     user_input = input(\"Enter the value: \")\n",
    "     if user_input.isnumeric():\n",
    "      user_input = int(user_input)\n",
    "      break\n",
    "     if i != (3-1):\n",
    "       print(\"Retrying...\")\n",
    "    if not isinstance(user_input, int):\n",
    "       break\n",
    "if i != (3-1):\n",
    "    print(\"Retrying...\")\n",
    "\n",
    "\n",
    "  "
   ]
  }
 ],
 "metadata": {
  "kernelspec": {
   "display_name": "csit82",
   "language": "python",
   "name": "python3"
  },
  "language_info": {
   "codemirror_mode": {
    "name": "ipython",
    "version": 3
   },
   "file_extension": ".py",
   "mimetype": "text/x-python",
   "name": "python",
   "nbconvert_exporter": "python",
   "pygments_lexer": "ipython3",
   "version": "3.12.11"
  }
 },
 "nbformat": 4,
 "nbformat_minor": 5
}

{
 "cells": [
  {
   "cell_type": "markdown",
   "id": "ff9bbf38",
   "metadata": {},
   "source": [
    "# Function\n",
    "```python\n",
    "# syntax\n",
    "# function defination\n",
    "def function_name(parameters):\n",
    "    # function body\n",
    "    # [return statements] \n",
    "\n",
    "  # function call\n",
    "  function_name(arguments)  \n",
    "```"
   ]
  },
  {
   "cell_type": "code",
   "execution_count": 11,
   "id": "d2daf51e",
   "metadata": {},
   "outputs": [],
   "source": [
    "def is_even(value):\n",
    "   return value % 2 == 0"
   ]
  },
  {
   "cell_type": "code",
   "execution_count": 12,
   "id": "475dc6e8",
   "metadata": {},
   "outputs": [
    {
     "data": {
      "text/plain": [
       "False"
      ]
     },
     "execution_count": 12,
     "metadata": {},
     "output_type": "execute_result"
    }
   ],
   "source": [
    "is_even(5)  "
   ]
  },
  {
   "cell_type": "markdown",
   "id": "63ba9e33",
   "metadata": {},
   "source": [
    "### Position Arguments in function call"
   ]
  },
  {
   "cell_type": "code",
   "execution_count": 13,
   "id": "e823da5b",
   "metadata": {},
   "outputs": [],
   "source": [
    "def add_values(a, b):\n",
    "    total = a + b\n",
    "    return total"
   ]
  },
  {
   "cell_type": "code",
   "execution_count": 14,
   "id": "8129f509",
   "metadata": {},
   "outputs": [
    {
     "data": {
      "text/plain": [
       "12"
      ]
     },
     "execution_count": 14,
     "metadata": {},
     "output_type": "execute_result"
    }
   ],
   "source": [
    "add_values(10, 2)"
   ]
  },
  {
   "cell_type": "markdown",
   "id": "1c0de060",
   "metadata": {},
   "source": [
    "### keyword-based Arguments in function call"
   ]
  },
  {
   "cell_type": "code",
   "execution_count": 15,
   "id": "085b808e",
   "metadata": {},
   "outputs": [
    {
     "data": {
      "text/plain": [
       "12"
      ]
     },
     "execution_count": 15,
     "metadata": {},
     "output_type": "execute_result"
    }
   ],
   "source": [
    "def add_values(a, b):\n",
    "    total = a + b\n",
    "    return total\n",
    "add_values(a=10, b=2)"
   ]
  },
  {
   "cell_type": "code",
   "execution_count": 16,
   "id": "23f5c7d9",
   "metadata": {},
   "outputs": [
    {
     "data": {
      "text/plain": [
       "11"
      ]
     },
     "execution_count": 16,
     "metadata": {},
     "output_type": "execute_result"
    }
   ],
   "source": [
    "add_values(b=6, a=5)"
   ]
  },
  {
   "cell_type": "markdown",
   "id": "638a7719",
   "metadata": {},
   "source": [
    "### Both positional and keyword-based arguments in function call"
   ]
  },
  {
   "cell_type": "code",
   "execution_count": 19,
   "id": "fa0621c4",
   "metadata": {},
   "outputs": [
    {
     "data": {
      "text/plain": [
       "11"
      ]
     },
     "execution_count": 19,
     "metadata": {},
     "output_type": "execute_result"
    }
   ],
   "source": [
    "add_values(5, b=6)"
   ]
  },
  {
   "cell_type": "code",
   "execution_count": 20,
   "id": "ade0598c",
   "metadata": {},
   "outputs": [
    {
     "ename": "SyntaxError",
     "evalue": "positional argument follows keyword argument (3175722658.py, line 1)",
     "output_type": "error",
     "traceback": [
      "  \u001b[36mCell\u001b[39m\u001b[36m \u001b[39m\u001b[32mIn[20]\u001b[39m\u001b[32m, line 1\u001b[39m\n\u001b[31m    \u001b[39m\u001b[31madd_values(a=5, 6)\u001b[39m\n                     ^\n\u001b[31mSyntaxError\u001b[39m\u001b[31m:\u001b[39m positional argument follows keyword argument\n"
     ]
    }
   ],
   "source": [
    "add_values(a=5, 6)"
   ]
  },
  {
   "cell_type": "markdown",
   "id": "613d85c0",
   "metadata": {},
   "source": [
    "### Default Parameters\n"
   ]
  },
  {
   "cell_type": "code",
   "execution_count": null,
   "id": "ff757682",
   "metadata": {},
   "outputs": [
    {
     "data": {
      "text/plain": [
       "3"
      ]
     },
     "execution_count": 12,
     "metadata": {},
     "output_type": "execute_result"
    }
   ],
   "source": [
    "def add_values(a, b, c=0):\n",
    "    total = a + b + c\n",
    "    return total   \n",
    "\n",
    "add_values(1, 2) "
   ]
  },
  {
   "cell_type": "code",
   "execution_count": null,
   "id": "e4b34e39",
   "metadata": {},
   "outputs": [
    {
     "data": {
      "text/plain": [
       "6"
      ]
     },
     "execution_count": 13,
     "metadata": {},
     "output_type": "execute_result"
    }
   ],
   "source": [
    "add_values(1, 2, 3) "
   ]
  },
  {
   "cell_type": "code",
   "execution_count": null,
   "id": "9e8d8a95",
   "metadata": {},
   "outputs": [
    {
     "data": {
      "text/plain": [
       "6"
      ]
     },
     "execution_count": 14,
     "metadata": {},
     "output_type": "execute_result"
    }
   ],
   "source": [
    "add_values(1, 2, c=3)"
   ]
  },
  {
   "cell_type": "markdown",
   "id": "fcf1ba15",
   "metadata": {},
   "source": [
    "## `Args` and `Kwargs`"
   ]
  },
  {
   "cell_type": "code",
   "execution_count": null,
   "id": "fce29509",
   "metadata": {},
   "outputs": [
    {
     "name": "stdout",
     "output_type": "stream",
     "text": [
      "type (args)= <class 'tuple'>\n",
      "(args)= ()\n"
     ]
    }
   ],
   "source": [
    "def add_values(*args):\n",
    "    print(f\"{type (args)= }\")\n",
    "    print(f\"{(args)= }\")\n",
    "\n",
    "add_values()\n",
    "\n",
    "\n"
   ]
  },
  {
   "cell_type": "code",
   "execution_count": null,
   "id": "7fcd0061",
   "metadata": {},
   "outputs": [
    {
     "name": "stdout",
     "output_type": "stream",
     "text": [
      "type (args)= <class 'tuple'>\n",
      "(args)= (100, 200, 300, 400, 'hsahs')\n"
     ]
    }
   ],
   "source": [
    "add_values(100,200,300,400,'hsahs')"
   ]
  },
  {
   "cell_type": "code",
   "execution_count": null,
   "id": "ecfac1dd",
   "metadata": {},
   "outputs": [
    {
     "name": "stdout",
     "output_type": "stream",
     "text": [
      "type (kwargs)= <class 'dict'>\n",
      "(kwargs)= {}\n"
     ]
    }
   ],
   "source": [
    "def add_values(**kwargs):\n",
    "    print(f\"{type (kwargs)= }\")\n",
    "    print(f\"{(kwargs)= }\")\n",
    "\n",
    "add_values()\n"
   ]
  },
  {
   "cell_type": "code",
   "execution_count": null,
   "id": "7d90a321",
   "metadata": {},
   "outputs": [
    {
     "name": "stdout",
     "output_type": "stream",
     "text": [
      "type (kwargs)= <class 'dict'>\n",
      "(kwargs)= {'a': 1, 'b': 2, 'c': 3, 'd': 4}\n"
     ]
    }
   ],
   "source": [
    "add_values(a=1, b=2, c=3, d=4)"
   ]
  },
  {
   "cell_type": "code",
   "execution_count": null,
   "id": "9983297f",
   "metadata": {},
   "outputs": [
    {
     "name": "stdout",
     "output_type": "stream",
     "text": [
      "type (args)= <class 'tuple'>\n",
      "(args)= ()\n",
      "type (kwargs)= <class 'dict'>\n",
      "(kwargs)= {}\n"
     ]
    }
   ],
   "source": [
    "def add_values(*args, **kwargs):\n",
    "    print(f\"{type (args)= }\")\n",
    "    print(f\"{(args)= }\")\n",
    "    print(f\"{type (kwargs)= }\")\n",
    "    print(f\"{(kwargs)= }\")\n",
    "add_values()\n"
   ]
  },
  {
   "cell_type": "code",
   "execution_count": null,
   "id": "4a13d5b2",
   "metadata": {},
   "outputs": [
    {
     "name": "stdout",
     "output_type": "stream",
     "text": [
      "type (args)= <class 'tuple'>\n",
      "(args)= (10,)\n",
      "type (kwargs)= <class 'dict'>\n",
      "(kwargs)= {'b': 2}\n"
     ]
    }
   ],
   "source": [
    "add_values(10, b=2)  # This will raise an error because 'a' is not provided"
   ]
  },
  {
   "cell_type": "code",
   "execution_count": null,
   "id": "3f8fcb4f",
   "metadata": {},
   "outputs": [
    {
     "name": "stdout",
     "output_type": "stream",
     "text": [
      "type (args)= <class 'tuple'>\n",
      "(args)= ()\n",
      "type (kwargs)= <class 'dict'>\n",
      "(kwargs)= {'a': 5, 'b': 6}\n"
     ]
    }
   ],
   "source": [
    "add_values(a=5, b=6)"
   ]
  },
  {
   "cell_type": "markdown",
   "id": "58064cd3",
   "metadata": {},
   "source": [
    "### Anonymous Function / Lambda Function"
   ]
  },
  {
   "cell_type": "code",
   "execution_count": null,
   "id": "b6307590",
   "metadata": {},
   "outputs": [
    {
     "data": {
      "text/plain": [
       "7"
      ]
     },
     "execution_count": 1,
     "metadata": {},
     "output_type": "execute_result"
    }
   ],
   "source": [
    "def add(a,b):\n",
    "    return a + b\n",
    "add(2,5)"
   ]
  },
  {
   "cell_type": "code",
   "execution_count": 21,
   "id": "bf64c653",
   "metadata": {},
   "outputs": [
    {
     "data": {
      "text/plain": [
       "7"
      ]
     },
     "execution_count": 21,
     "metadata": {},
     "output_type": "execute_result"
    }
   ],
   "source": [
    "total = lambda a,b: a + b\n",
    "total(2, 5)"
   ]
  },
  {
   "cell_type": "code",
   "execution_count": 3,
   "id": "04c1fd90",
   "metadata": {},
   "outputs": [],
   "source": [
    "def square(ele):\n",
    "    return ele * 2\n",
    "sq = lambda ele: ele ** 2\n"
   ]
  },
  {
   "cell_type": "code",
   "execution_count": 23,
   "id": "b88b647d",
   "metadata": {},
   "outputs": [
    {
     "data": {
      "text/plain": [
       "0.0625"
      ]
     },
     "execution_count": 23,
     "metadata": {},
     "output_type": "execute_result"
    }
   ],
   "source": [
    "(-0.25)**2"
   ]
  },
  {
   "cell_type": "code",
   "execution_count": 4,
   "id": "6e5e60bb",
   "metadata": {},
   "outputs": [
    {
     "data": {
      "text/plain": [
       "[-2, -0.5, 0.25, 1, 3]"
      ]
     },
     "execution_count": 4,
     "metadata": {},
     "output_type": "execute_result"
    }
   ],
   "source": [
    "l = [-0.5, 0.25, 1, -2, 3]\n",
    "l.sort(key=square)\n",
    "l"
   ]
  },
  {
   "cell_type": "code",
   "execution_count": null,
   "id": "8bdbab56",
   "metadata": {},
   "outputs": [
    {
     "data": {
      "text/plain": [
       "[0.25, -0.5, 1, -2, 3]"
      ]
     },
     "execution_count": 24,
     "metadata": {},
     "output_type": "execute_result"
    }
   ],
   "source": [
    "l = [-0.5, 0.25, 1, -2, 3]\n",
    "l.sort(key=lambda ele: ele ** 2)\n",
    "l"
   ]
  }
 ],
 "metadata": {
  "kernelspec": {
   "display_name": "csit82",
   "language": "python",
   "name": "python3"
  },
  "language_info": {
   "codemirror_mode": {
    "name": "ipython",
    "version": 3
   },
   "file_extension": ".py",
   "mimetype": "text/x-python",
   "name": "python",
   "nbconvert_exporter": "python",
   "pygments_lexer": "ipython3",
   "version": "3.12.11"
  }
 },
 "nbformat": 4,
 "nbformat_minor": 5
}

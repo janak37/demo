{
 "cells": [
  {
   "cell_type": "markdown",
   "id": "a4c6b7fc",
   "metadata": {},
   "source": [
    "# OOP\n",
    "```python\n",
    "# Class defination\n",
    "class ClassNameHere(object):\n",
    "    def __init__(self, parameters, *args, **kwargs):\n",
    "        \"\"\"constructor\"\"\"\n",
    "        # defination\n",
    "        self.attribute1= parameters\n",
    "\n",
    "    def method1(self):\n",
    "        # defination\n",
    "\n",
    "    def method2(self)\n",
    "        # defination  \n",
    "\n",
    "# object creation\n",
    "obj_name = ClassNameHere(arguments_for_constructor)\n",
    "# attribute access using dot operator\n",
    "obj_name.attribute1      \n",
    "obj_name.attribute2\n",
    "# method access using dot operator\n",
    "obj_name.method1(argument_for_method1)      \n",
    "obj_name.method2(argument_for_method2)      \n",
    "```"
   ]
  },
  {
   "cell_type": "code",
   "execution_count": 1,
   "id": "0160fabd",
   "metadata": {},
   "outputs": [
    {
     "name": "stdout",
     "output_type": "stream",
     "text": [
      "msg='famous person is Ram Bista'\n",
      "Person(name:Ram Bista, age:23)\n"
     ]
    }
   ],
   "source": [
    "class Person(object):\n",
    "    def __init__(self, f_name, l_name, age):\n",
    "        self.name = f_name + ' ' + l_name\n",
    "        self.age = age\n",
    "    def get_details(self):\n",
    "        return f'famous person is {self.name}'    \n",
    "    def __str__(self):\n",
    "        msg = self.get_details()\n",
    "        print(f\"{msg=}\")\n",
    "        return f\"Person(name:{self.name}, age:{self.age})\"\n",
    "person_1 = Person('Ram', 'Bista',23)\n",
    "#print(person_1.name)\n",
    "#print(person_1.age)   \n",
    "#print(person_1.get_details())   \n",
    "print(person_1)  # This will call the __str__ method  "
   ]
  },
  {
   "cell_type": "code",
   "execution_count": 2,
   "id": "bc8c8534",
   "metadata": {},
   "outputs": [
    {
     "name": "stdout",
     "output_type": "stream",
     "text": [
      "msg='famous person is Ram Bista'\n",
      "Person(name:Ram Bista, age:23)\n"
     ]
    }
   ],
   "source": [
    "print(person_1)"
   ]
  },
  {
   "cell_type": "code",
   "execution_count": 3,
   "id": "3aee121e",
   "metadata": {},
   "outputs": [
    {
     "name": "stdout",
     "output_type": "stream",
     "text": [
      "msg='famous person is Sashant Dangol'\n",
      "Person(name:Sashant Dangol, age:23)\n"
     ]
    }
   ],
   "source": [
    "person_2 = Person('Sashant', 'Dangol',23)\n",
    "#print(person_1.name)\n",
    "#print(person_1.age)   \n",
    "#print(person_1.get_details())   \n",
    "print(person_2)"
   ]
  },
  {
   "cell_type": "markdown",
   "id": "d58dc3b4",
   "metadata": {},
   "source": [
    "## Inheritance"
   ]
  },
  {
   "cell_type": "code",
   "execution_count": 11,
   "id": "dd4ba505",
   "metadata": {},
   "outputs": [
    {
     "data": {
      "text/plain": [
       "'self.salary = 20000'"
      ]
     },
     "execution_count": 11,
     "metadata": {},
     "output_type": "execute_result"
    }
   ],
   "source": [
    "class Employee(Person):\n",
    "    def __init__(self, id, salary, f_name, l_name, age):\n",
    "        self.id = id\n",
    "        self.salary = salary\n",
    "        super().__init__(f_name, l_name, age)\n",
    "        \n",
    "    def  get_salary(self):\n",
    "        return f\"{self.salary = }\"  \n",
    "    \n",
    "emp_1 = Employee(100,20000, 'abc', 'xyz', 23)\n",
    "emp_1.get_salary()    "
   ]
  },
  {
   "cell_type": "code",
   "execution_count": 12,
   "id": "b4ba98c9",
   "metadata": {},
   "outputs": [
    {
     "data": {
      "text/plain": [
       "'famous person is abc xyz'"
      ]
     },
     "execution_count": 12,
     "metadata": {},
     "output_type": "execute_result"
    }
   ],
   "source": [
    "emp_1.get_details()"
   ]
  },
  {
   "cell_type": "code",
   "execution_count": null,
   "id": "4630928a",
   "metadata": {},
   "outputs": [
    {
     "data": {
      "text/plain": [
       "'The salary is 20000'"
      ]
     },
     "execution_count": 30,
     "metadata": {},
     "output_type": "execute_result"
    }
   ],
   "source": [
    "class Person_2(object):\n",
    "    def __init__(self, f_name, l_name, age):\n",
    "        self.name = f_name + ' ' + l_name\n",
    "        self.age = age\n",
    "\n",
    "    def get_details(self):\n",
    "        return f\"Famous person is {self.name}\"\n",
    "\n",
    "\n",
    "class Employee_2:\n",
    "    def __init__(self, id, salary, f_name, l_name, age):\n",
    "        # Explicitly call Person_2 constructor\n",
    "        Person_2.__init__(self, f_name, l_name, age)\n",
    "        self.id = id\n",
    "        self.salary = salary\n",
    "\n",
    "    def get_salary(self):\n",
    "        return f\"The salary is {self.salary}\"\n",
    "\n",
    "\n",
    "class Teacher(Person_2, Employee_2):\n",
    "    def __init__(self, f_name, l_name, age, id, salary):\n",
    "        Person_2.__init__(self, f_name, l_name, age)\n",
    "        Employee_2.__init__(self, id, salary, f_name, l_name, age)\n",
    "\n",
    "\n",
    "\n",
    "t = Teacher('a', 'b', 23, 100, 20000)\n",
    "  \n",
    "t.get_salary()   \n"
   ]
  }
 ],
 "metadata": {
  "kernelspec": {
   "display_name": "csit82",
   "language": "python",
   "name": "python3"
  },
  "language_info": {
   "codemirror_mode": {
    "name": "ipython",
    "version": 3
   },
   "file_extension": ".py",
   "mimetype": "text/x-python",
   "name": "python",
   "nbconvert_exporter": "python",
   "pygments_lexer": "ipython3",
   "version": "3.12.11"
  }
 },
 "nbformat": 4,
 "nbformat_minor": 5
}

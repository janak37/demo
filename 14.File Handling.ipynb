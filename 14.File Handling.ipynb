{
 "cells": [
  {
   "cell_type": "markdown",
   "id": "b99be5be",
   "metadata": {},
   "source": [
    "# File Handling\n",
    "- uses `open()` function with different modes.\n",
    "- commonly used modes are read(r), write(w), append(a)"
   ]
  },
  {
   "cell_type": "markdown",
   "id": "e2ed562e",
   "metadata": {},
   "source": [
    "## Write (w) mode\n",
    "- creates new file if file doesn't exists at specified path.\n",
    "- if file already exists at specified path, then all the contents are earsedd to make the file as new one."
   ]
  },
  {
   "cell_type": "code",
   "execution_count": 24,
   "id": "a0a459f0",
   "metadata": {},
   "outputs": [],
   "source": [
    "# abs_file_path = \"E:\\\\pythonpractice\\\\files\"\n",
    "abs_file_path = \"E:/pythonpractice/files/using_abs.txt\"\n",
    "rel_file_path2 = \"files/using_rel.txt\""
   ]
  },
  {
   "cell_type": "code",
   "execution_count": 25,
   "id": "ad7d85a2",
   "metadata": {},
   "outputs": [],
   "source": [
    "f = open(abs_file_path, 'w')"
   ]
  },
  {
   "cell_type": "code",
   "execution_count": 26,
   "id": "2a685722",
   "metadata": {},
   "outputs": [
    {
     "data": {
      "text/plain": [
       "45"
      ]
     },
     "execution_count": 26,
     "metadata": {},
     "output_type": "execute_result"
    }
   ],
   "source": [
    "f.write(\"this statement is written from \\nwrite method.\")"
   ]
  },
  {
   "cell_type": "code",
   "execution_count": 27,
   "id": "adb34abd",
   "metadata": {},
   "outputs": [],
   "source": [
    "f.close()"
   ]
  },
  {
   "cell_type": "code",
   "execution_count": 28,
   "id": "134d57db",
   "metadata": {},
   "outputs": [],
   "source": [
    "f = open(abs_file_path, 'w')"
   ]
  },
  {
   "cell_type": "code",
   "execution_count": 29,
   "id": "80de65d6",
   "metadata": {},
   "outputs": [],
   "source": [
    "l = ['this is car.', 'this is nice.']\n",
    "f.writelines(l)"
   ]
  },
  {
   "cell_type": "code",
   "execution_count": 30,
   "id": "8a1d2cef",
   "metadata": {},
   "outputs": [],
   "source": [
    "f.close()"
   ]
  },
  {
   "cell_type": "markdown",
   "id": "de443468",
   "metadata": {},
   "source": [
    "## Append('a') Mode\n",
    "- Creates new file when the file isnot present in the specified path as like write mode.\n",
    "- If the file exists in the specified path, no changes is made int the content of file.\n",
    "- Write and writelines method can be used when in append mode.\n",
    "- Adds new content to the end of the existing content."
   ]
  },
  {
   "cell_type": "code",
   "execution_count": 31,
   "id": "84df8057",
   "metadata": {},
   "outputs": [],
   "source": [
    "rel_file_path = \"./files/using_abs.txt\"\n",
    "f = open(rel_file_path, 'a')"
   ]
  },
  {
   "cell_type": "code",
   "execution_count": 32,
   "id": "86bda15e",
   "metadata": {},
   "outputs": [],
   "source": [
    "f.write('\\nThis is appended text.')\n",
    "f.close()"
   ]
  },
  {
   "cell_type": "code",
   "execution_count": 33,
   "id": "57cd592b",
   "metadata": {},
   "outputs": [
    {
     "data": {
      "text/plain": [
       "'files/using_rel.txt'"
      ]
     },
     "execution_count": 33,
     "metadata": {},
     "output_type": "execute_result"
    }
   ],
   "source": [
    "rel_file_path2"
   ]
  },
  {
   "cell_type": "code",
   "execution_count": 34,
   "id": "ec70a463",
   "metadata": {},
   "outputs": [],
   "source": [
    "f = open(rel_file_path2, 'a')\n",
    "f.close()"
   ]
  },
  {
   "cell_type": "markdown",
   "id": "a8193c86",
   "metadata": {},
   "source": [
    "# Read(r) Mode"
   ]
  },
  {
   "cell_type": "code",
   "execution_count": 35,
   "id": "505967dd",
   "metadata": {},
   "outputs": [],
   "source": [
    "f = open(abs_file_path, 'r')"
   ]
  },
  {
   "cell_type": "code",
   "execution_count": 36,
   "id": "0481bdf1",
   "metadata": {},
   "outputs": [
    {
     "data": {
      "text/plain": [
       "'this is car.this is nice.\\nThis is appended text.'"
      ]
     },
     "execution_count": 36,
     "metadata": {},
     "output_type": "execute_result"
    }
   ],
   "source": [
    "# using read method more than once will return empty string\n",
    "content = f.read()\n",
    "content"
   ]
  },
  {
   "cell_type": "code",
   "execution_count": 37,
   "id": "47f655a3",
   "metadata": {},
   "outputs": [],
   "source": [
    "f.close()"
   ]
  },
  {
   "cell_type": "code",
   "execution_count": 38,
   "id": "e94b196d",
   "metadata": {},
   "outputs": [],
   "source": [
    "f = open(abs_file_path, 'r')"
   ]
  },
  {
   "cell_type": "code",
   "execution_count": 39,
   "id": "892fb238",
   "metadata": {},
   "outputs": [
    {
     "data": {
      "text/plain": [
       "'this is car.this is nice.\\n'"
      ]
     },
     "execution_count": 39,
     "metadata": {},
     "output_type": "execute_result"
    }
   ],
   "source": [
    "data = f.readline()\n",
    "data"
   ]
  },
  {
   "cell_type": "code",
   "execution_count": 40,
   "id": "a6b5f317",
   "metadata": {},
   "outputs": [
    {
     "data": {
      "text/plain": [
       "'This is appended text.'"
      ]
     },
     "execution_count": 40,
     "metadata": {},
     "output_type": "execute_result"
    }
   ],
   "source": [
    "data = f.readline()\n",
    "data"
   ]
  },
  {
   "cell_type": "code",
   "execution_count": 41,
   "id": "0d335e6c",
   "metadata": {},
   "outputs": [
    {
     "data": {
      "text/plain": [
       "''"
      ]
     },
     "execution_count": 41,
     "metadata": {},
     "output_type": "execute_result"
    }
   ],
   "source": [
    "data = f.readline()\n",
    "data"
   ]
  },
  {
   "cell_type": "code",
   "execution_count": 42,
   "id": "a031181d",
   "metadata": {},
   "outputs": [],
   "source": [
    "f.close()"
   ]
  },
  {
   "cell_type": "code",
   "execution_count": 43,
   "id": "e622374e",
   "metadata": {},
   "outputs": [
    {
     "data": {
      "text/plain": [
       "['this is car.this is nice.\\n', 'This is appended text.']"
      ]
     },
     "execution_count": 43,
     "metadata": {},
     "output_type": "execute_result"
    }
   ],
   "source": [
    "f = open(abs_file_path, 'r')\n",
    "data = f.readlines()\n",
    "data"
   ]
  },
  {
   "cell_type": "code",
   "execution_count": 44,
   "id": "7d04189f",
   "metadata": {},
   "outputs": [
    {
     "data": {
      "text/plain": [
       "[]"
      ]
     },
     "execution_count": 44,
     "metadata": {},
     "output_type": "execute_result"
    }
   ],
   "source": [
    "data = f.readlines()\n",
    "data"
   ]
  },
  {
   "cell_type": "code",
   "execution_count": 45,
   "id": "984dfe38",
   "metadata": {},
   "outputs": [],
   "source": [
    "f.close()"
   ]
  }
 ],
 "metadata": {
  "kernelspec": {
   "display_name": "csit82",
   "language": "python",
   "name": "python3"
  },
  "language_info": {
   "codemirror_mode": {
    "name": "ipython",
    "version": 3
   },
   "file_extension": ".py",
   "mimetype": "text/x-python",
   "name": "python",
   "nbconvert_exporter": "python",
   "pygments_lexer": "ipython3",
   "version": "3.12.11"
  }
 },
 "nbformat": 4,
 "nbformat_minor": 5
}

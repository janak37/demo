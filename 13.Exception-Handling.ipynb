{
 "cells": [
  {
   "cell_type": "markdown",
   "id": "75ccf521",
   "metadata": {},
   "source": [
    "## exception Handling\n",
    "```python\n",
    "try:\n",
    "    # try block statement\n",
    "    # statements with possibility of error\n",
    "except:\n",
    "    # action to take if error occurs.\n",
    "finally:\n",
    "    # runs everytime.\n",
    "    # optional\n",
    "```"
   ]
  },
  {
   "cell_type": "code",
   "execution_count": 5,
   "id": "a60028c5",
   "metadata": {},
   "outputs": [
    {
     "name": "stdout",
     "output_type": "stream",
     "text": [
      "Error occurred: {e}\n",
      "result= -1\n"
     ]
    }
   ],
   "source": [
    "value = input(\"enter numeric value: \")\n",
    "value = int(value)\n",
    "try:\n",
    "   result = 100 / value\n",
    "except:\n",
    "   print(\"Error occurred: {e}\")\n",
    "   result = -1\n",
    "finally:\n",
    "            print(f\"{result= }\")"
   ]
  },
  {
   "cell_type": "code",
   "execution_count": 1,
   "id": "35e7924f",
   "metadata": {},
   "outputs": [
    {
     "name": "stdout",
     "output_type": "stream",
     "text": [
      "Error occurred: {e}\n",
      "result= -1\n"
     ]
    }
   ],
   "source": [
    "value = input(\"enter numeric value: \")\n",
    "value = int(value)\n",
    "try:\n",
    "   result = 100 / value\n",
    "except ZeroDivisionError as e:\n",
    "   print(\"Error occurred: {e}\")\n",
    "   result = -1\n",
    "finally:\n",
    "            print(f\"{result= }\")"
   ]
  },
  {
   "cell_type": "code",
   "execution_count": 2,
   "id": "7f62dc2d",
   "metadata": {},
   "outputs": [
    {
     "name": "stdout",
     "output_type": "stream",
     "text": [
      "result= -1\n"
     ]
    },
    {
     "ename": "ZeroDivisionError",
     "evalue": "division by zero",
     "output_type": "error",
     "traceback": [
      "\u001b[31m---------------------------------------------------------------------------\u001b[39m",
      "\u001b[31mZeroDivisionError\u001b[39m                         Traceback (most recent call last)",
      "\u001b[36mCell\u001b[39m\u001b[36m \u001b[39m\u001b[32mIn[2]\u001b[39m\u001b[32m, line 4\u001b[39m\n\u001b[32m      2\u001b[39m value = \u001b[38;5;28mint\u001b[39m(value)\n\u001b[32m      3\u001b[39m \u001b[38;5;28;01mtry\u001b[39;00m:\n\u001b[32m----> \u001b[39m\u001b[32m4\u001b[39m    result = \u001b[32;43m100\u001b[39;49m\u001b[43m \u001b[49m\u001b[43m/\u001b[49m\u001b[43m \u001b[49m\u001b[43mvalue\u001b[49m\n\u001b[32m      5\u001b[39m \u001b[38;5;28;01mexcept\u001b[39;00m \u001b[38;5;167;01mNameError\u001b[39;00m \u001b[38;5;28;01mas\u001b[39;00m e:\n\u001b[32m      6\u001b[39m    \u001b[38;5;28mprint\u001b[39m(\u001b[33m\"\u001b[39m\u001b[33mError occurred: \u001b[39m\u001b[38;5;132;01m{e}\u001b[39;00m\u001b[33m\"\u001b[39m)\n",
      "\u001b[31mZeroDivisionError\u001b[39m: division by zero"
     ]
    }
   ],
   "source": [
    "value = input(\"enter numeric value: \")\n",
    "value = int(value)\n",
    "try:\n",
    "   result = 100 / value\n",
    "except NameError as e:\n",
    "   print(\"Error occurred: {e}\")\n",
    "   result = -1\n",
    "finally:\n",
    "            print(f\"{result= }\")"
   ]
  },
  {
   "cell_type": "code",
   "execution_count": 9,
   "id": "cafd97ac",
   "metadata": {},
   "outputs": [
    {
     "ename": "ZeroDivisionError",
     "evalue": "division by zero",
     "output_type": "error",
     "traceback": [
      "\u001b[31m---------------------------------------------------------------------------\u001b[39m",
      "\u001b[31mZeroDivisionError\u001b[39m                         Traceback (most recent call last)",
      "\u001b[36mCell\u001b[39m\u001b[36m \u001b[39m\u001b[32mIn[9]\u001b[39m\u001b[32m, line 5\u001b[39m\n\u001b[32m      3\u001b[39m \u001b[38;5;28;01mtry\u001b[39;00m:\n\u001b[32m      4\u001b[39m      value = d[user_key]\n\u001b[32m----> \u001b[39m\u001b[32m5\u001b[39m      b = \u001b[32;43m1\u001b[39;49m\u001b[43m/\u001b[49m\u001b[32;43m0\u001b[39;49m\n\u001b[32m      6\u001b[39m      \u001b[38;5;28mprint\u001b[39m(value)\n\u001b[32m      7\u001b[39m \u001b[38;5;28;01mexcept\u001b[39;00m (\u001b[38;5;167;01mKeyError\u001b[39;00m, \u001b[38;5;167;01mNameError\u001b[39;00m) \u001b[38;5;28;01mas\u001b[39;00m e:\n",
      "\u001b[31mZeroDivisionError\u001b[39m: division by zero"
     ]
    }
   ],
   "source": [
    "d = {\"a\": 1, \"b\": 2, \"c\": 3}\n",
    "user_key = input(\"Enter a key: \")\n",
    "try:\n",
    "     value = d[user_key]\n",
    "     b = 1/0\n",
    "     print(value)\n",
    "except (KeyError, NameError) as e:\n",
    "    print(f\"KeyError: {e}\")"
   ]
  }
 ],
 "metadata": {
  "kernelspec": {
   "display_name": "csit82",
   "language": "python",
   "name": "python3"
  },
  "language_info": {
   "codemirror_mode": {
    "name": "ipython",
    "version": 3
   },
   "file_extension": ".py",
   "mimetype": "text/x-python",
   "name": "python",
   "nbconvert_exporter": "python",
   "pygments_lexer": "ipython3",
   "version": "3.12.11"
  }
 },
 "nbformat": 4,
 "nbformat_minor": 5
}

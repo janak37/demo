{
 "cells": [
  {
   "cell_type": "markdown",
   "id": "1701704e",
   "metadata": {},
   "source": [
    "1. int\n",
    "2. float\n",
    "3. boolean\n",
    "4. string\n",
    "5. list\n",
    "6. tuple\n",
    "7. dictionary\n",
    "8. set"
   ]
  },
  {
   "cell_type": "markdown",
   "id": "5d2d730f",
   "metadata": {},
   "source": [
    "# string"
   ]
  },
  {
   "cell_type": "code",
   "execution_count": 1,
   "id": "8d891a83",
   "metadata": {},
   "outputs": [],
   "source": [
    "str1 = 'this is string in single quote'\n",
    "str2 = \"this is string in double quote\"\n",
    "str3 = '''this \n",
    "       is \n",
    "          multiline \n",
    "              string in triple quote'''\n",
    "str4 = \"\"\"this \n",
    "              is \n",
    "                  multiline string in triple double quote\"\"\""
   ]
  },
  {
   "cell_type": "code",
   "execution_count": 7,
   "id": "40f46750",
   "metadata": {},
   "outputs": [],
   "source": [
    "a = 'this is a class'"
   ]
  },
  {
   "cell_type": "code",
   "execution_count": 3,
   "id": "2efec257",
   "metadata": {},
   "outputs": [
    {
     "data": {
      "text/plain": [
       "'THIS IS A CLASS'"
      ]
     },
     "execution_count": 3,
     "metadata": {},
     "output_type": "execute_result"
    }
   ],
   "source": [
    "a.upper()"
   ]
  },
  {
   "cell_type": "code",
   "execution_count": 4,
   "id": "fb861c5d",
   "metadata": {},
   "outputs": [
    {
     "data": {
      "text/plain": [
       "'this is a class'"
      ]
     },
     "execution_count": 4,
     "metadata": {},
     "output_type": "execute_result"
    }
   ],
   "source": [
    "a.upper().lower()"
   ]
  },
  {
   "cell_type": "code",
   "execution_count": 5,
   "id": "0c10f1e1",
   "metadata": {},
   "outputs": [
    {
     "data": {
      "text/plain": [
       "'This Is A Class'"
      ]
     },
     "execution_count": 5,
     "metadata": {},
     "output_type": "execute_result"
    }
   ],
   "source": [
    "a.upper().title()"
   ]
  },
  {
   "cell_type": "code",
   "execution_count": 6,
   "id": "e4966036",
   "metadata": {},
   "outputs": [
    {
     "data": {
      "text/plain": [
       "'This is a class'"
      ]
     },
     "execution_count": 6,
     "metadata": {},
     "output_type": "execute_result"
    }
   ],
   "source": [
    "a.upper().title().capitalize()"
   ]
  },
  {
   "cell_type": "code",
   "execution_count": 8,
   "id": "6f500c7d",
   "metadata": {},
   "outputs": [
    {
     "data": {
      "text/plain": [
       "2"
      ]
     },
     "execution_count": 8,
     "metadata": {},
     "output_type": "execute_result"
    }
   ],
   "source": [
    "a.count('is ')"
   ]
  },
  {
   "cell_type": "code",
   "execution_count": 9,
   "id": "a1fb0e5e",
   "metadata": {},
   "outputs": [],
   "source": [
    "a = 'we are in class.'"
   ]
  },
  {
   "cell_type": "code",
   "execution_count": 11,
   "id": "d260a934",
   "metadata": {},
   "outputs": [
    {
     "data": {
      "text/plain": [
       "True"
      ]
     },
     "execution_count": 11,
     "metadata": {},
     "output_type": "execute_result"
    }
   ],
   "source": [
    "a.startswith('w')"
   ]
  },
  {
   "cell_type": "code",
   "execution_count": 12,
   "id": "536be719",
   "metadata": {},
   "outputs": [
    {
     "data": {
      "text/plain": [
       "True"
      ]
     },
     "execution_count": 12,
     "metadata": {},
     "output_type": "execute_result"
    }
   ],
   "source": [
    "a.endswith('.')"
   ]
  },
  {
   "cell_type": "code",
   "execution_count": 14,
   "id": "65a93a65",
   "metadata": {},
   "outputs": [
    {
     "data": {
      "text/plain": [
       "False"
      ]
     },
     "execution_count": 14,
     "metadata": {},
     "output_type": "execute_result"
    }
   ],
   "source": [
    "a='this is a class'\n",
    "a.istitle()"
   ]
  },
  {
   "cell_type": "code",
   "execution_count": 15,
   "id": "bd9b6f7a",
   "metadata": {},
   "outputs": [
    {
     "data": {
      "text/plain": [
       "'this isa class'"
      ]
     },
     "execution_count": 15,
     "metadata": {},
     "output_type": "execute_result"
    }
   ],
   "source": [
    "a = 'this is'\n",
    "b = 'a class'\n",
    "a+b"
   ]
  },
  {
   "cell_type": "code",
   "execution_count": 16,
   "id": "fc4369d9",
   "metadata": {},
   "outputs": [
    {
     "data": {
      "text/plain": [
       "'this is a class'"
      ]
     },
     "execution_count": 16,
     "metadata": {},
     "output_type": "execute_result"
    }
   ],
   "source": [
    "a = 'this is '\n",
    "b = 'a class'\n",
    "a+b"
   ]
  },
  {
   "cell_type": "code",
   "execution_count": 20,
   "id": "f0cca466",
   "metadata": {},
   "outputs": [
    {
     "data": {
      "text/plain": [
       "'this is a class'"
      ]
     },
     "execution_count": 20,
     "metadata": {},
     "output_type": "execute_result"
    }
   ],
   "source": [
    "a = 'this is'\n",
    "b = 'a class'\n",
    "a + ' ' + b"
   ]
  },
  {
   "cell_type": "code",
   "execution_count": 21,
   "id": "2c268094",
   "metadata": {},
   "outputs": [],
   "source": [
    "l = ['this','is','a','class.']"
   ]
  },
  {
   "cell_type": "code",
   "execution_count": 22,
   "id": "4c6a1584",
   "metadata": {},
   "outputs": [
    {
     "data": {
      "text/plain": [
       "'thisisaclass.'"
      ]
     },
     "execution_count": 22,
     "metadata": {},
     "output_type": "execute_result"
    }
   ],
   "source": [
    "l[0] + l[1] + l[2] + l[3]"
   ]
  },
  {
   "cell_type": "code",
   "execution_count": 23,
   "id": "d1e08b9a",
   "metadata": {},
   "outputs": [
    {
     "data": {
      "text/plain": [
       "'this is a class.'"
      ]
     },
     "execution_count": 23,
     "metadata": {},
     "output_type": "execute_result"
    }
   ],
   "source": [
    "' '.join(l)"
   ]
  },
  {
   "cell_type": "code",
   "execution_count": 24,
   "id": "3e6a6382",
   "metadata": {},
   "outputs": [],
   "source": [
    "a = '      this is a class     '"
   ]
  },
  {
   "cell_type": "code",
   "execution_count": 25,
   "id": "f139dd7d",
   "metadata": {},
   "outputs": [
    {
     "data": {
      "text/plain": [
       "'this is a class'"
      ]
     },
     "execution_count": 25,
     "metadata": {},
     "output_type": "execute_result"
    }
   ],
   "source": [
    "a.strip()"
   ]
  },
  {
   "cell_type": "code",
   "execution_count": 26,
   "id": "130357c8",
   "metadata": {},
   "outputs": [
    {
     "data": {
      "text/plain": [
       "'this is a class     '"
      ]
     },
     "execution_count": 26,
     "metadata": {},
     "output_type": "execute_result"
    }
   ],
   "source": [
    "a.lstrip()"
   ]
  },
  {
   "cell_type": "code",
   "execution_count": 27,
   "id": "dd3b5d12",
   "metadata": {},
   "outputs": [
    {
     "data": {
      "text/plain": [
       "'      this is a class'"
      ]
     },
     "execution_count": 27,
     "metadata": {},
     "output_type": "execute_result"
    }
   ],
   "source": [
    "a.rstrip()"
   ]
  },
  {
   "cell_type": "code",
   "execution_count": 29,
   "id": "4484ba23",
   "metadata": {},
   "outputs": [
    {
     "data": {
      "text/plain": [
       "['this',\n",
       " 'is',\n",
       " 'a',\n",
       " 'first',\n",
       " 'sentence.',\n",
       " 'this',\n",
       " 'is',\n",
       " 'second',\n",
       " 'sentence.',\n",
       " 'And',\n",
       " 'this',\n",
       " 'is',\n",
       " 'third',\n",
       " 'one.']"
      ]
     },
     "execution_count": 29,
     "metadata": {},
     "output_type": "execute_result"
    }
   ],
   "source": [
    "p = 'this is a first sentence. this is second sentence. And this is third one.'\n",
    "p.split()"
   ]
  },
  {
   "cell_type": "code",
   "execution_count": 30,
   "id": "da22b0f9",
   "metadata": {},
   "outputs": [
    {
     "data": {
      "text/plain": [
       "['this is a first sentence',\n",
       " ' this is second sentence',\n",
       " ' And this is third one',\n",
       " '']"
      ]
     },
     "execution_count": 30,
     "metadata": {},
     "output_type": "execute_result"
    }
   ],
   "source": [
    "p = 'this is a first sentence. this is second sentence. And this is third one.'\n",
    "p.split('.')"
   ]
  },
  {
   "cell_type": "code",
   "execution_count": 31,
   "id": "80b9ea2a",
   "metadata": {},
   "outputs": [
    {
     "data": {
      "text/plain": [
       "['name', '98347478839', '23', '5.6']"
      ]
     },
     "execution_count": 31,
     "metadata": {},
     "output_type": "execute_result"
    }
   ],
   "source": [
    "info = \"name@@98347478839@@23@@5.6\"\n",
    "info.split('@@')"
   ]
  },
  {
   "cell_type": "markdown",
   "id": "eddbfe80",
   "metadata": {},
   "source": [
    "## string Formatting"
   ]
  },
  {
   "cell_type": "markdown",
   "id": "ae67b215",
   "metadata": {},
   "source": [
    "- % operator for string formatting"
   ]
  },
  {
   "cell_type": "code",
   "execution_count": 32,
   "id": "cf94b172",
   "metadata": {},
   "outputs": [
    {
     "data": {
      "text/plain": [
       "'this is a class'"
      ]
     },
     "execution_count": 32,
     "metadata": {},
     "output_type": "execute_result"
    }
   ],
   "source": [
    "'this is a %s' %'class'"
   ]
  },
  {
   "cell_type": "code",
   "execution_count": 35,
   "id": "14233cb5",
   "metadata": {},
   "outputs": [
    {
     "data": {
      "text/plain": [
       "'this is a 1'"
      ]
     },
     "execution_count": 35,
     "metadata": {},
     "output_type": "execute_result"
    }
   ],
   "source": [
    "'this is a %d' %1"
   ]
  },
  {
   "cell_type": "markdown",
   "id": "dbbc2b80",
   "metadata": {},
   "source": [
    "- format() method for string formatting"
   ]
  },
  {
   "cell_type": "code",
   "execution_count": 36,
   "id": "ccd5b485",
   "metadata": {},
   "outputs": [
    {
     "data": {
      "text/plain": [
       "'this is a {}'"
      ]
     },
     "execution_count": 36,
     "metadata": {},
     "output_type": "execute_result"
    }
   ],
   "source": [
    "a = \"this is a {}\"\n",
    "a"
   ]
  },
  {
   "cell_type": "code",
   "execution_count": 37,
   "id": "cd5bb092",
   "metadata": {},
   "outputs": [
    {
     "data": {
      "text/plain": [
       "'this is a class'"
      ]
     },
     "execution_count": 37,
     "metadata": {},
     "output_type": "execute_result"
    }
   ],
   "source": [
    "a.format('class')"
   ]
  },
  {
   "cell_type": "markdown",
   "id": "2e55ba6f",
   "metadata": {},
   "source": []
  },
  {
   "cell_type": "code",
   "execution_count": 39,
   "id": "c2e8f354",
   "metadata": {},
   "outputs": [
    {
     "data": {
      "text/plain": [
       "'this is a class'"
      ]
     },
     "execution_count": 39,
     "metadata": {},
     "output_type": "execute_result"
    }
   ],
   "source": [
    "\"this {} a {}\".format('is','class')"
   ]
  },
  {
   "cell_type": "code",
   "execution_count": 40,
   "id": "e13926d5",
   "metadata": {},
   "outputs": [
    {
     "data": {
      "text/plain": [
       "'this class a is'"
      ]
     },
     "execution_count": 40,
     "metadata": {},
     "output_type": "execute_result"
    }
   ],
   "source": [
    "\"this {} a {}\".format('class','is')"
   ]
  },
  {
   "cell_type": "code",
   "execution_count": 41,
   "id": "1f7086a3",
   "metadata": {},
   "outputs": [
    {
     "data": {
      "text/plain": [
       "'this is a class'"
      ]
     },
     "execution_count": 41,
     "metadata": {},
     "output_type": "execute_result"
    }
   ],
   "source": [
    "\"this {1} a {0}\".format('class','is')"
   ]
  },
  {
   "cell_type": "code",
   "execution_count": 43,
   "id": "911f9cb5",
   "metadata": {},
   "outputs": [
    {
     "data": {
      "text/plain": [
       "'this is a class'"
      ]
     },
     "execution_count": 43,
     "metadata": {},
     "output_type": "execute_result"
    }
   ],
   "source": [
    "\"this {verb} a {name}\".format(verb='is', name='class')"
   ]
  },
  {
   "cell_type": "markdown",
   "id": "eef4b81f",
   "metadata": {},
   "source": [
    "# f-string string formatting\n"
   ]
  },
  {
   "cell_type": "code",
   "execution_count": 46,
   "id": "7324f86e",
   "metadata": {},
   "outputs": [
    {
     "data": {
      "text/plain": [
       "'this is is class'"
      ]
     },
     "execution_count": 46,
     "metadata": {},
     "output_type": "execute_result"
    }
   ],
   "source": [
    "c='is'\n",
    "d='class'\n",
    "f\"this {c} is {d}\""
   ]
  }
 ],
 "metadata": {
  "kernelspec": {
   "display_name": "csit82",
   "language": "python",
   "name": "python3"
  },
  "language_info": {
   "codemirror_mode": {
    "name": "ipython",
    "version": 3
   },
   "file_extension": ".py",
   "mimetype": "text/x-python",
   "name": "python",
   "nbconvert_exporter": "python",
   "pygments_lexer": "ipython3",
   "version": "3.12.11"
  }
 },
 "nbformat": 4,
 "nbformat_minor": 5
}

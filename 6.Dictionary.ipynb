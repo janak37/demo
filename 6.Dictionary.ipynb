{
 "cells": [
  {
   "cell_type": "markdown",
   "id": "3bf2f942",
   "metadata": {},
   "source": [
    "# Dictionary\n",
    "- uses curly braces to define the structure.\n",
    "- stores data as key-value pairs.\n",
    "- key must be immutable type and value has no limitation in data types.\n",
    "```python\n",
    "# Syntax\n",
    "d = {} # empty dictionary\n",
    "d = dict() # empty dictionary\n",
    "d = {'key1':'value1', 'key2':'value2'} # default key-value pairs\n",
    "d = dict(key1=value1, key2=value2)\n",
    "```"
   ]
  },
  {
   "cell_type": "code",
   "execution_count": 1,
   "id": "f8d7d4db",
   "metadata": {},
   "outputs": [
    {
     "name": "stdout",
     "output_type": "stream",
     "text": [
      "{}\n",
      "<class 'dict'>\n"
     ]
    }
   ],
   "source": [
    "d = {}\n",
    "print(d)\n",
    "print(type(d))"
   ]
  },
  {
   "cell_type": "code",
   "execution_count": 2,
   "id": "bfc954e0",
   "metadata": {},
   "outputs": [
    {
     "name": "stdout",
     "output_type": "stream",
     "text": [
      "{}\n",
      "<class 'dict'>\n"
     ]
    }
   ],
   "source": [
    "d = dict()\n",
    "print(d)\n",
    "print(type(d))"
   ]
  },
  {
   "cell_type": "code",
   "execution_count": 3,
   "id": "4993dd92",
   "metadata": {},
   "outputs": [
    {
     "name": "stdout",
     "output_type": "stream",
     "text": [
      "{'k1': 'v1', 'k2': 'v2'}\n",
      "<class 'dict'>\n"
     ]
    }
   ],
   "source": [
    "d = {'k1': 'v1', 'k2': 'v2'}\n",
    "print(d)\n",
    "print(type(d))"
   ]
  },
  {
   "cell_type": "code",
   "execution_count": 4,
   "id": "b5c2c862",
   "metadata": {},
   "outputs": [
    {
     "name": "stdout",
     "output_type": "stream",
     "text": [
      "{'k1': 'v1', 'k2': 'v2'}\n",
      "<class 'dict'>\n"
     ]
    }
   ],
   "source": [
    "d = dict(k1='v1', k2='v2')\n",
    "print(d)\n",
    "print(type(d))"
   ]
  },
  {
   "cell_type": "code",
   "execution_count": 5,
   "id": "bb14ffd7",
   "metadata": {},
   "outputs": [
    {
     "data": {
      "text/plain": [
       "{(1, 2): 'val'}"
      ]
     },
     "execution_count": 5,
     "metadata": {},
     "output_type": "execute_result"
    }
   ],
   "source": [
    "# tuple can be used as a key in a dictionary as it is immutable\n",
    "# implying hashable\n",
    "l = (1,2)\n",
    "d1 = {l: 'val'}\n",
    "d1\n"
   ]
  },
  {
   "cell_type": "code",
   "execution_count": 6,
   "id": "9b4cc50f",
   "metadata": {},
   "outputs": [
    {
     "name": "stdout",
     "output_type": "stream",
     "text": [
      "d={}\n"
     ]
    }
   ],
   "source": [
    "d = {}\n",
    "print(f\"{d=}\")"
   ]
  },
  {
   "cell_type": "code",
   "execution_count": 7,
   "id": "d67c9648",
   "metadata": {},
   "outputs": [
    {
     "data": {
      "text/plain": [
       "{'k': 'v'}"
      ]
     },
     "execution_count": 7,
     "metadata": {},
     "output_type": "execute_result"
    }
   ],
   "source": [
    "# adding key value pairs into dictionary\n",
    "d['k'] = 'v'\n",
    "d"
   ]
  },
  {
   "cell_type": "code",
   "execution_count": 8,
   "id": "cfb274c2",
   "metadata": {},
   "outputs": [
    {
     "data": {
      "text/plain": [
       "{'k': 'v', 'age': 20}"
      ]
     },
     "execution_count": 8,
     "metadata": {},
     "output_type": "execute_result"
    }
   ],
   "source": [
    "d['age']=20\n",
    "d"
   ]
  },
  {
   "cell_type": "code",
   "execution_count": 9,
   "id": "f3476aab",
   "metadata": {},
   "outputs": [
    {
     "data": {
      "text/plain": [
       "{'k': 'v', 'age': 30}"
      ]
     },
     "execution_count": 9,
     "metadata": {},
     "output_type": "execute_result"
    }
   ],
   "source": [
    "# updating an existing key-value pair\n",
    "d['age'] = 30\n",
    "d"
   ]
  },
  {
   "cell_type": "code",
   "execution_count": 10,
   "id": "a8b7bb91",
   "metadata": {},
   "outputs": [
    {
     "data": {
      "text/plain": [
       "30"
      ]
     },
     "execution_count": 10,
     "metadata": {},
     "output_type": "execute_result"
    }
   ],
   "source": [
    "# accesing key-value pairs\n",
    "d['age']"
   ]
  },
  {
   "cell_type": "code",
   "execution_count": null,
   "id": "4c8b92fa",
   "metadata": {},
   "outputs": [
    {
     "ename": "KeyError",
     "evalue": "'name'",
     "output_type": "error",
     "traceback": [
      "\u001b[31m---------------------------------------------------------------------------\u001b[39m",
      "\u001b[31mKeyError\u001b[39m                                  Traceback (most recent call last)",
      "\u001b[36mCell\u001b[39m\u001b[36m \u001b[39m\u001b[32mIn[11]\u001b[39m\u001b[32m, line 2\u001b[39m\n\u001b[32m      1\u001b[39m \u001b[38;5;66;03m# accessing a non-existing key-value pair\u001b[39;00m\n\u001b[32m----> \u001b[39m\u001b[32m2\u001b[39m \u001b[43md\u001b[49m\u001b[43m[\u001b[49m\u001b[33;43m'\u001b[39;49m\u001b[33;43mname\u001b[39;49m\u001b[33;43m'\u001b[39;49m\u001b[43m]\u001b[49m\n",
      "\u001b[31mKeyError\u001b[39m: 'name'"
     ]
    }
   ],
   "source": [
    "# accessing a non-existing key-value pair\n",
    "d['name']"
   ]
  },
  {
   "cell_type": "code",
   "execution_count": null,
   "id": "debb32d7",
   "metadata": {},
   "outputs": [
    {
     "data": {
      "text/plain": [
       "30"
      ]
     },
     "execution_count": 13,
     "metadata": {},
     "output_type": "execute_result"
    }
   ],
   "source": [
    "d.get('age')"
   ]
  },
  {
   "cell_type": "code",
   "execution_count": null,
   "id": "b3fa9ef1",
   "metadata": {},
   "outputs": [],
   "source": [
    "d.get('name')  # returns None if key does not exist"
   ]
  },
  {
   "cell_type": "code",
   "execution_count": null,
   "id": "3799a7d2",
   "metadata": {},
   "outputs": [
    {
     "name": "stdout",
     "output_type": "stream",
     "text": [
      "None\n"
     ]
    }
   ],
   "source": [
    "print(d.get('name'))"
   ]
  },
  {
   "cell_type": "code",
   "execution_count": 12,
   "id": "0f57e5eb",
   "metadata": {},
   "outputs": [
    {
     "data": {
      "text/plain": [
       "'default_value'"
      ]
     },
     "execution_count": 12,
     "metadata": {},
     "output_type": "execute_result"
    }
   ],
   "source": [
    "d.get('name', 'default_value')  # returns 'default_value' if key does not exist"
   ]
  },
  {
   "cell_type": "code",
   "execution_count": 14,
   "id": "d888c534",
   "metadata": {},
   "outputs": [
    {
     "data": {
      "text/plain": [
       "False"
      ]
     },
     "execution_count": 14,
     "metadata": {},
     "output_type": "execute_result"
    }
   ],
   "source": [
    "d.get('name', False)  # returns 'default_value' if key does not exist"
   ]
  },
  {
   "cell_type": "code",
   "execution_count": 15,
   "id": "9f6e29a5",
   "metadata": {},
   "outputs": [
    {
     "data": {
      "text/plain": [
       "dict_keys(['k', 'age'])"
      ]
     },
     "execution_count": 15,
     "metadata": {},
     "output_type": "execute_result"
    }
   ],
   "source": [
    "d.keys()\n"
   ]
  },
  {
   "cell_type": "code",
   "execution_count": 16,
   "id": "c93cfe52",
   "metadata": {},
   "outputs": [
    {
     "data": {
      "text/plain": [
       "dict_values(['v', 30])"
      ]
     },
     "execution_count": 16,
     "metadata": {},
     "output_type": "execute_result"
    }
   ],
   "source": [
    "d.values()  # returns all values in the dictionary"
   ]
  },
  {
   "cell_type": "code",
   "execution_count": 19,
   "id": "e95f464c",
   "metadata": {},
   "outputs": [
    {
     "name": "stdout",
     "output_type": "stream",
     "text": [
      "returned_value =None\n",
      "Updated d ={'age': 30}\n"
     ]
    }
   ],
   "source": [
    "# removing a key-value pair\n",
    "returned_value = d.pop('k',None)\n",
    "print(f'{returned_value =}')\n",
    "print(f\"Updated {d =}\")"
   ]
  },
  {
   "cell_type": "code",
   "execution_count": 20,
   "id": "38536468",
   "metadata": {},
   "outputs": [
    {
     "data": {
      "text/plain": [
       "{'age': 30, 'height': 5.1, 'roll': 10, 'hair': 'black'}"
      ]
     },
     "execution_count": 20,
     "metadata": {},
     "output_type": "execute_result"
    }
   ],
   "source": [
    "d['height'] =5.1\n",
    "d['roll']= 10\n",
    "d['hair']= 'black'\n",
    "d"
   ]
  },
  {
   "cell_type": "code",
   "execution_count": 21,
   "id": "c3f45bdc",
   "metadata": {},
   "outputs": [
    {
     "data": {
      "text/plain": [
       "('hair', 'black')"
      ]
     },
     "execution_count": 21,
     "metadata": {},
     "output_type": "execute_result"
    }
   ],
   "source": [
    "d.popitem()"
   ]
  },
  {
   "cell_type": "code",
   "execution_count": 22,
   "id": "a27f208d",
   "metadata": {},
   "outputs": [
    {
     "name": "stdout",
     "output_type": "stream",
     "text": [
      "returned_value =('roll', 10)\n",
      "Updated d ={'age': 30, 'height': 5.1}\n"
     ]
    }
   ],
   "source": [
    "returned_value = d.popitem()\n",
    "print(f'{returned_value =}')\n",
    "print(f\"Updated {d =}\")"
   ]
  },
  {
   "cell_type": "code",
   "execution_count": 23,
   "id": "c584a4a6",
   "metadata": {},
   "outputs": [
    {
     "name": "stdout",
     "output_type": "stream",
     "text": [
      "d1={'a': 1, 'b': 2, 'c': 3, 'd': 4}\n",
      "d2={'c': 3, 'd': 4}\n"
     ]
    }
   ],
   "source": [
    "d1 = {'a':1, 'b':2}\n",
    "d2 = {'c':3, 'd':4}\n",
    "d1.update(d2)  # merges d2 into d1\n",
    "print(f\"{d1=}\")\n",
    "print(f\"{d2=}\")"
   ]
  },
  {
   "cell_type": "code",
   "execution_count": 25,
   "id": "f88cd764",
   "metadata": {},
   "outputs": [
    {
     "data": {
      "text/plain": [
       "{'a': 0, 'b': 0, 'c': 0, 'd': 0}"
      ]
     },
     "execution_count": 25,
     "metadata": {},
     "output_type": "execute_result"
    }
   ],
   "source": [
    "d1.fromkeys(['a','b','c','d'], 0)  # creates a new dictionary with keys from the list and all values set to 0"
   ]
  },
  {
   "cell_type": "code",
   "execution_count": 26,
   "id": "c4993dd7",
   "metadata": {},
   "outputs": [
    {
     "data": {
      "text/plain": [
       "{}"
      ]
     },
     "execution_count": 26,
     "metadata": {},
     "output_type": "execute_result"
    }
   ],
   "source": [
    "d = {}\n",
    "d"
   ]
  },
  {
   "cell_type": "code",
   "execution_count": 27,
   "id": "88ce2f65",
   "metadata": {},
   "outputs": [
    {
     "data": {
      "text/plain": [
       "{'k1': None}"
      ]
     },
     "execution_count": 27,
     "metadata": {},
     "output_type": "execute_result"
    }
   ],
   "source": [
    "d.setdefault('k1')\n",
    "d"
   ]
  },
  {
   "cell_type": "code",
   "execution_count": 28,
   "id": "cdd9f7e7",
   "metadata": {},
   "outputs": [
    {
     "data": {
      "text/plain": [
       "{'k1': None, 'k2': 'default_value'}"
      ]
     },
     "execution_count": 28,
     "metadata": {},
     "output_type": "execute_result"
    }
   ],
   "source": [
    "d.setdefault('k2', 'default_value')  # sets 'k2' to 'default_value' if it does not exist\n",
    "d"
   ]
  },
  {
   "cell_type": "code",
   "execution_count": 29,
   "id": "6cffcc3f",
   "metadata": {},
   "outputs": [
    {
     "data": {
      "text/plain": [
       "{'a': 1, 'b': 2, 'c': 3, 'd': 4}"
      ]
     },
     "execution_count": 29,
     "metadata": {},
     "output_type": "execute_result"
    }
   ],
   "source": [
    "d1"
   ]
  },
  {
   "cell_type": "code",
   "execution_count": null,
   "id": "de34d632",
   "metadata": {},
   "outputs": [
    {
     "data": {
      "text/plain": [
       "dict_items([('a', 1), ('b', 2), ('c', 3), ('d', 4)])"
      ]
     },
     "execution_count": 30,
     "metadata": {},
     "output_type": "execute_result"
    }
   ],
   "source": [
    "d1.items(\n",
    ")"
   ]
  }
 ],
 "metadata": {
  "kernelspec": {
   "display_name": "csit82",
   "language": "python",
   "name": "python3"
  },
  "language_info": {
   "codemirror_mode": {
    "name": "ipython",
    "version": 3
   },
   "file_extension": ".py",
   "mimetype": "text/x-python",
   "name": "python",
   "nbconvert_exporter": "python",
   "pygments_lexer": "ipython3",
   "version": "3.12.11"
  }
 },
 "nbformat": 4,
 "nbformat_minor": 5
}
